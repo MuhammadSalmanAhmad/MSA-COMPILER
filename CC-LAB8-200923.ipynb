{
 "cells": [
  {
   "cell_type": "code",
   "execution_count": 45,
   "metadata": {
    "id": "B-yuEVsqL9nq"
   },
   "outputs": [],
   "source": [
    "class Identifier:\n",
    "    def check_identifier(self,test_String) :\n",
    "\n",
    "          if test_String[0] == '_' or test_String[0].isalpha():\n",
    "            for x in test_String[1:]:\n",
    "\n",
    "              if x == '_' or x.isalpha() or x.isdigit():\n",
    "                print(\"Identifier accepted\")\n",
    "                return True\n",
    "                break\n",
    "            else:\n",
    "              print(\"Not matched\")\n",
    "\n",
    "# Example usage:\n",
    "\n"
   ]
  },
  {
   "cell_type": "code",
   "execution_count": 46,
   "metadata": {
    "colab": {
     "base_uri": "https://localhost:8080/"
    },
    "id": "6BIbyCbnNqTD",
    "outputId": "14cef826-7800-4b0a-9b33-f5fd2b8dd9e9"
   },
   "outputs": [
    {
     "name": "stdout",
     "output_type": "stream",
     "text": [
      "Identifier accepted\n"
     ]
    },
    {
     "data": {
      "text/plain": [
       "True"
      ]
     },
     "execution_count": 46,
     "metadata": {},
     "output_type": "execute_result"
    }
   ],
   "source": [
    "\n",
    "ID=Identifier()\n",
    "ID.check_identifier(\"Salman2000\")\n",
    "\n"
   ]
  },
  {
   "cell_type": "code",
   "execution_count": 22,
   "metadata": {
    "id": "9u7H1Vc2OBuP"
   },
   "outputs": [],
   "source": [
    "class OP:\n",
    "\n",
    "  def check_operator(self,test_input):\n",
    "    operators = [\n",
    "    '+', '-', '*', '/', '%', '**', '//',  # Arithmetic Operators\n",
    "    '==', '!=', '<', '>', '<=', '>=',    # Comparison Operators\n",
    "    '=', '+=', '-=', '*=', '/=', '%=', '**=', '//=',  # Assignment Operators\n",
    "    'and', 'or', 'not',                  # Logical Operators\n",
    "    '&', '|', '^', '~', '<<', '>>',      # Bitwise Operators\n",
    "    'in', 'not in',                      # Membership Operators\n",
    "    'is', 'is not'                       # Identity Operators\n",
    "    ]\n",
    "    for x in operators:\n",
    "        if x==test_input:\n",
    "          print(\"operator matched\")\n",
    "          return True\n"
   ]
  },
  {
   "cell_type": "code",
   "execution_count": 44,
   "metadata": {
    "colab": {
     "base_uri": "https://localhost:8080/"
    },
    "id": "a2mNWfMFOlcT",
    "outputId": "30012089-3c69-4280-99b3-4ca9140addea"
   },
   "outputs": [
    {
     "name": "stdout",
     "output_type": "stream",
     "text": [
      "operator matched\n"
     ]
    }
   ],
   "source": [
    "OPobj=OP()\n",
    "OPobj.check_operator(\"+\")"
   ]
  },
  {
   "cell_type": "code",
   "execution_count": 41,
   "metadata": {
    "id": "MkSBZ0SGT8Uk"
   },
   "outputs": [],
   "source": [
    "symboltable=[]"
   ]
  },
  {
   "cell_type": "code",
   "execution_count": 28,
   "metadata": {
    "id": "_1AWKi6xUrsP"
   },
   "outputs": [],
   "source": [
    "def hashfunc(input_String):\n",
    "  sum=0\n",
    "  hashvalue=0\n",
    "  for i in input_String:\n",
    "    sum=sum+ord(i)\n",
    "    hashvalue=sum % ord(input_String[0])\n",
    "  return hashvalue\n"
   ]
  },
  {
   "cell_type": "code",
   "execution_count": 29,
   "metadata": {
    "colab": {
     "base_uri": "https://localhost:8080/"
    },
    "id": "mlpawxNjVxYY",
    "outputId": "295c1837-ef0c-4f22-913a-f3243e730f22"
   },
   "outputs": [
    {
     "name": "stdout",
     "output_type": "stream",
     "text": [
      "61\n"
     ]
    }
   ],
   "source": [
    "x=hashfunc(\"salman\")\n",
    "print(x)"
   ]
  },
  {
   "cell_type": "code",
   "execution_count": 49,
   "metadata": {
    "colab": {
     "base_uri": "https://localhost:8080/"
    },
    "id": "VDV_STogV32U",
    "outputId": "53c3c034-9c2e-4111-d6ed-d93b7ea667a0"
   },
   "outputs": [
    {
     "name": "stdout",
     "output_type": "stream",
     "text": [
      "enter somethinghammad ali\n",
      "Identifier accepted\n",
      "Identifier accepted\n",
      "[{'Token Name': 'ID', 'Token Value': 'salman', 'Hash': 61}, {'Token Name': 'ID', 'Token Value': 'hammad', 'Hash': 96}, {'Token Name': 'ID', 'Token Value': 'hammad', 'Hash': 96}, {'Token Name': 'ID', 'Token Value': 'ali', 'Hash': 19}]\n"
     ]
    }
   ],
   "source": [
    "tokens= input(\"enter something\")\n",
    "for x in tokens.split():\n",
    "  if ID.check_identifier(x):\n",
    "    hash_value=hashfunc(x)\n",
    "    symboltable.append({'Token Name':'ID','Token Value':x,'Hash':hash_value})\n",
    "  elif OPobj.check_operator(x):\n",
    "    hash_value=hashfunc(x)\n",
    "    symboltable.append({'Token Name':\"OP\",'Token Value':x,'Hash':hash_value})\n",
    "print(symboltable)\n",
    "\n",
    "\n",
    "\n"
   ]
  },
  {
   "cell_type": "code",
   "execution_count": 33,
   "metadata": {
    "colab": {
     "base_uri": "https://localhost:8080/"
    },
    "id": "XpfrwvQZYmoX",
    "outputId": "446779f7-5674-42fa-8ced-86600fb45baa"
   },
   "outputs": [
    {
     "name": "stdout",
     "output_type": "stream",
     "text": [
      "61\n",
      "10\n",
      "22\n"
     ]
    }
   ],
   "source": [
    "for y in tokens.split():\n",
    "  hashvalue=hashfunc(y)\n",
    "  print(hashvalue)"
   ]
  },
  {
   "cell_type": "code",
   "execution_count": 38,
   "metadata": {
    "id": "JzgRl1zjaCmt"
   },
   "outputs": [],
   "source": [
    "symboltable.append({\"Token Name\":\"Salman\",\"Token value\":200})"
   ]
  },
  {
   "cell_type": "code",
   "execution_count": 39,
   "metadata": {
    "colab": {
     "base_uri": "https://localhost:8080/"
    },
    "id": "ChlPieppbBM1",
    "outputId": "74f0d82d-e50b-404b-8ca0-a7a574a64315"
   },
   "outputs": [
    {
     "name": "stdout",
     "output_type": "stream",
     "text": [
      "[{'Token Name': 'Salman'}, {'Token Name': 'Salman', 'Token value': 200}]\n"
     ]
    }
   ],
   "source": [
    "print(symboltable)"
   ]
  },
  {
   "cell_type": "code",
   "execution_count": null,
   "metadata": {
    "id": "e7OlHRJcbDj3"
   },
   "outputs": [],
   "source": []
  }
 ],
 "metadata": {
  "colab": {
   "provenance": []
  },
  "kernelspec": {
   "display_name": "Python 3 (ipykernel)",
   "language": "python",
   "name": "python3"
  },
  "language_info": {
   "codemirror_mode": {
    "name": "ipython",
    "version": 3
   },
   "file_extension": ".py",
   "mimetype": "text/x-python",
   "name": "python",
   "nbconvert_exporter": "python",
   "pygments_lexer": "ipython3",
   "version": "3.9.13"
  }
 },
 "nbformat": 4,
 "nbformat_minor": 1
}
